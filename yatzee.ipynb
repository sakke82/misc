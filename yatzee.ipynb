{
 "cells": [
  {
   "cell_type": "markdown",
   "metadata": {},
   "source": [
    "# Nopan heittoa\n",
    "\n",
    "Yatsee peli tilanteessa (2,3,4,5,x) ensimmäisen heiton jälkeen. Mikä on todennäköisyys saada pieni tai iso suora kahdella jäljellä olevalla heitolla? \n",
    "\n",
    "Tapahtuma A = 'Saadaan suora' = 'suora 1. heitolla tai suora 2. heitolla' = '1.heitolla 1 tai 6 tai 2.heitolla 1 tai 6'. Tapahtuman A komplementti, eli \"vasta\" tapahtuma, $\\neg $A = 'ei saada suoraa' = 'ei suoraa 1. eikä 2. heitolla' = '1. ja 2. heitolla 2,3,4 tai 5' = '1.heitolla 2,3,4,5' * '2. heitolla 2,3,4 tai 5'. \n",
    "\n",
    "Todennäköisyys P($\\neg $A) = 2/3 * 2/3 = 4/9 = 0.44444444...\n",
    "\n",
    "Nyt todennäköisyys, että pelaaja saa suoran on P(A) = 1 - P($\\neg $A) = 1 - 4/9 = 5/9 = 0.5555555...\n",
    "\n",
    "Oltaisiin voitu myös laskea suoraan:\n",
    "\n",
    "\\begin{align*}\n",
    "P(A) &= \\text{'1.heitolla suora' + '2.heitolla suora'} \\\\ &= \\text{'1.heitolla suora' + '1.heitolla ei suoraa ja 2.heitolla suora'} \\\\ &= \\text{'1.heitolla 1 tai 6' + '(1.heitolla 2,3,4 tai 5) ja 2.heitolla 1 tai 6'} \\\\ &= \\text{'1.heitolla 1 tai 6' + '1.heitolla 2,3,4 tai 5' * '2.heitolla 1 tai 6'} \\\\ &= 2/6 + 4/6 * 2/6 \\\\ &= 1/3 + 2/9 \\\\ &= 3/9 + 2/9 \\\\ &= 5/9 \\\\ &= 0.55555555...\n",
    "\\end{align*}"
   ]
  },
  {
   "cell_type": "markdown",
   "metadata": {},
   "source": [
    "## Monte Carlo metodi\n",
    "\n",
    "Todennäköisyyttä voidaan myös arvioida ns. \"Monte Carlo\" -menetelmällä. Tällöin simuloidaan tapahtumia ja lasketaan kuinka monta kertaa suotuisa tapahtuma tapahtui. Seuraavassa simuloidaan 10 - 10 000 000 loppupeliä ja lasketaan kuinka usein saadaan suora. Suhteellisen osuuden pitäisi lähestyä laskennallista todennäköisyyttä, kun simulointien lukumäärä kasvaa (suurten lukujen laki). "
   ]
  },
  {
   "cell_type": "code",
   "execution_count": 166,
   "metadata": {
    "collapsed": false
   },
   "outputs": [
    {
     "name": "stdout",
     "output_type": "stream",
     "text": [
      "Simuloidut loppupelit:  10\n",
      "Suorien suhteellinen osuus:  0.6\n",
      "*************\n",
      "Simuloidut loppupelit:  100\n",
      "Suorien suhteellinen osuus:  0.61\n",
      "*************\n",
      "Simuloidut loppupelit:  1000\n",
      "Suorien suhteellinen osuus:  0.55\n",
      "*************\n",
      "Simuloidut loppupelit:  10000\n",
      "Suorien suhteellinen osuus:  0.5562\n",
      "*************\n",
      "Simuloidut loppupelit:  100000\n",
      "Suorien suhteellinen osuus:  0.55764\n",
      "*************\n",
      "Simuloidut loppupelit:  1000000\n",
      "Suorien suhteellinen osuus:  0.556521\n",
      "*************\n"
     ]
    }
   ],
   "source": [
    "import random\n",
    "\n",
    "random.seed(4)\n",
    "number_simulations = [10, 100, 1000, 10000 ,100000, 1000000]\n",
    "percentage_straights = []\n",
    "\n",
    "for n_sim in number_simulations:\n",
    "    straight = 0\n",
    "    for i in range(n_sim):\n",
    "        # Pelataan n_sim kpl loppupelejä \n",
    "        heitto1 = random.randint(1,6)\n",
    "        if heitto1 == 1 or heitto1 == 6:\n",
    "            straight += 1\n",
    "        else:\n",
    "            # Heitetään uudelleen jos ensimmäinen heitto ei täydennä suoraa\n",
    "            heitto2 = random.randint(1,6)\n",
    "            if heitto2 == 1 or heitto2 == 6:\n",
    "                straight += 1\n",
    "    # lopuksi lasketaan suhteellinen osuus\n",
    "    percentage_straights.append((straight)/ float(n_sim))\n",
    "\n",
    "for i in range(len(percentage_straights)):\n",
    "    print \"Simuloidut loppupelit: \", number_simulations[i]\n",
    "    print \"Suorien suhteellinen osuus: \",  percentage_straights[i]\n",
    "    print \"*************\"\n"
   ]
  },
  {
   "cell_type": "code",
   "execution_count": 161,
   "metadata": {
    "collapsed": false
   },
   "outputs": [
    {
     "data": {
      "image/png": "[encoded data removed]",
      "text/plain": [
       "<matplotlib.figure.Figure at 0x142ba208>"
      ]
     },
     "metadata": {},
     "output_type": "display_data"
    }
   ],
   "source": [
    "%matplotlib inline\n",
    "import numpy as np\n",
    "import matplotlib.pyplot as plt\n",
    "\n",
    "plt.axhline(y = 5/float(9), color = 'r', linewidth = 3, alpha = 0.5)\n",
    "\n",
    "ind = np.arange(len(number_simulations))\n",
    "width = 0.5\n",
    "plt.bar(ind, percentage_straights, width, linewidth = 1, color = 'b', )\n",
    "plt.xticks(ind + width / 2., ('10', '100', '1000', '10000', '100000', '1000000'), rotation = 'vertical')\n",
    "plt.ylim(0.5, 0.65)\n",
    "plt.title('\"Monte Carlo\" -metodi')\n",
    "plt.xlabel('Simulointien lkm')\n",
    "plt.ylabel('Suorien suhteellinen osuus')\n",
    "\n",
    "plt.show()"
   ]
  },
  {
   "cell_type": "markdown",
   "metadata": {},
   "source": [
    "## Keskeinen raja-arvo lause\n",
    "\n",
    "Kun edellisessä kohdassa simuloimme 100 loppupeliä, saimme suorien suhteelliseksi osuudeksi 0.61, joka ei ole kovin hyvä arvio todellisesta arvosta. Kuitenkin jos toistamme 100 heiton sarjaa useammin, saamme keskeisen raja-arvo lauseen (Central limit theorem, CLT) perusteella otoskeskiarvosta harhattoman estimaattorin todennäköisyydelle. Alla suoritamme 100 000 kertaa 100 loppupelin sarjan. Vaikka yksittäisen 100 heiton sarjan tulos vaihteleekin välillä 0.35-0.75, ollaan saatu keskiarvoksi 0.5556691, joka on jo hyvin lähellä totuutta. Lisäksi histogrammiin alkaa muodostua normaalijakauman muoto. "
   ]
  },
  {
   "cell_type": "code",
   "execution_count": 164,
   "metadata": {
    "collapsed": false
   },
   "outputs": [],
   "source": [
    "number_simulations = 100000\n",
    "games_in_simulation = 100\n",
    "percentages = []\n",
    "counter = 0\n",
    "\n",
    "while counter < number_simulations:\n",
    "    counter += 1\n",
    "    straight = 0\n",
    "    for i in range(games_in_simulation):\n",
    "        heitto1 = random.randint(1,6)\n",
    "        if heitto1 == 1 or heitto1 == 6:\n",
    "            straight += 1\n",
    "        else:\n",
    "            # Heitetään uudelleen jos ensimmäinen heitto ei täydennä suoraa\n",
    "            heitto2 = random.randint(1,6)\n",
    "            if heitto2 == 1 or heitto2 == 6:\n",
    "                straight += 1\n",
    "    percentages.append((straight)/ float(games_in_simulation))\n",
    "    "
   ]
  },
  {
   "cell_type": "code",
   "execution_count": 165,
   "metadata": {
    "collapsed": false
   },
   "outputs": [
    {
     "name": "stdout",
     "output_type": "stream",
     "text": [
      "0.049798567044\n",
      "Keskiarvo: 0.5556006\n",
      "Pienin:  0.35\n",
      "Suurin:  0.76\n"
     ]
    },
    {
     "data": {
      "image/png": "[encoded data removed]",
      "text/plain": [
       "<matplotlib.figure.Figure at 0x1428e1d0>"
      ]
     },
     "metadata": {},
     "output_type": "display_data"
    }
   ],
   "source": [
    "import matplotlib.mlab as mlab\n",
    "\n",
    "ka = np.mean(percentages)\n",
    "minimi = min(percentages)\n",
    "maksimi = max(percentages)\n",
    "print np.std(percentages)\n",
    "\n",
    "print 'Keskiarvo:', ka\n",
    "print 'Pienin: ', minimi\n",
    "print 'Suurin: ', maksimi\n",
    "\n",
    "plt.hist(percentages, 40)\n",
    "plt.title('Keskeinen raja-arvo lause')\n",
    "plt.axvline(ka, color = 'r', linewidth = 3)\n",
    "plt.xlabel('Suorien suhteellinen osuus')\n",
    "plt.ylabel('Suhteellisen osuuden lkm')\n",
    "plt.show()"
   ]
  },
  {
   "cell_type": "markdown",
   "metadata": {},
   "source": [
    "## numberphile\n",
    "\n",
    "Simuloinnin voi toki tehdä monellakin tapaa. Numberphilen Brady voi demonstroida perinteistä yatzee tyyliä. Suosittelen muutenkin kyseisen jätkän videoita jos matematiikka kiinnostaa edes jollain tasolla.\n",
    "\n",
    "* [numberphile yatzee](https://www.youtube.com/watch?v=fiTwar7mFws)\n",
    "\n",
    "* [numberphile simpsons](https://www.youtube.com/watch?v=ReOQ300AcSU)\n",
    "\n",
    "* [numberphile zero](https://www.youtube.com/watch?v=BRRolKTlF6Q)"
   ]
  },
  {
   "cell_type": "code",
   "execution_count": null,
   "metadata": {
    "collapsed": true
   },
   "outputs": [],
   "source": []
  }
 ],
 "metadata": {
  "kernelspec": {
   "display_name": "Python 2",
   "language": "python",
   "name": "python2"
  },
  "language_info": {
   "codemirror_mode": {
    "name": "ipython",
    "version": 2
   },
   "file_extension": ".py",
   "mimetype": "text/x-python",
   "name": "python",
   "nbconvert_exporter": "python",
   "pygments_lexer": "ipython2",
   "version": "2.7.10"
  }
 },
 "nbformat": 4,
 "nbformat_minor": 0
}
